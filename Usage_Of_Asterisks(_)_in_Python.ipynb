{
  "nbformat": 4,
  "nbformat_minor": 0,
  "metadata": {
    "colab": {
      "provenance": []
    },
    "kernelspec": {
      "name": "python3",
      "display_name": "Python 3"
    },
    "language_info": {
      "name": "python"
    }
  },
  "cells": [
    {
      "cell_type": "markdown",
      "source": [
        "# **Famous usage for Asterisks**\n",
        "it can be used as a multiplication operator also its double can use as a power operator"
      ],
      "metadata": {
        "id": "OzotuXDs-GSa"
      }
    },
    {
      "cell_type": "code",
      "execution_count": 4,
      "metadata": {
        "colab": {
          "base_uri": "https://localhost:8080/"
        },
        "id": "Au8ZTgLn9lz-",
        "outputId": "d80ab009-9b7b-4530-ce61-1ba3fc3710b7"
      },
      "outputs": [
        {
          "output_type": "stream",
          "name": "stdout",
          "text": [
            "the product of 2,3 6 \n",
            " the result of 2 power 3 is 8\n"
          ]
        }
      ],
      "source": [
        "# Multiplication operator\n",
        "num1 , num2 = 2 ,3\n",
        "product =(\"the product of 2,3 {}\".format(num1*num2))\n",
        "# Power operator\n",
        "power = (\"the result of 2 power 3 is {}\".format(num1 ** num2))\n",
        "print(product,\"\\n\",power)"
      ]
    },
    {
      "cell_type": "markdown",
      "source": [
        "# **Usage of Asterisks in Unpacking**\n",
        "it can used as a prefix operator it can used in isert element in Different Iterables using the for loop also it can use to combine Different Iterables and in assginmant of variables"
      ],
      "metadata": {
        "id": "XUtCMinCAgMq"
      }
    },
    {
      "cell_type": "code",
      "source": [
        "#prefix operator\n",
        "nums = [i for i in range(1, 6)]\n",
        "print(*nums)\n"
      ],
      "metadata": {
        "colab": {
          "base_uri": "https://localhost:8080/"
        },
        "id": "myqlM_Ok_WK5",
        "outputId": "eac312ad-747a-4b2c-d380-0f82bfa4def0"
      },
      "execution_count": 7,
      "outputs": [
        {
          "output_type": "stream",
          "name": "stdout",
          "text": [
            "1 2 3 4 5\n"
          ]
        }
      ]
    },
    {
      "cell_type": "code",
      "source": [
        "#combain diffrant iterables\n",
        "lst = [1,2,3]\n",
        "tpl = (5,6,7)\n",
        "dic = {8,9,10}\n",
        "\n",
        "lst_combin = [*lst,*tpl,*dic]\n",
        "print(lst_combin)"
      ],
      "metadata": {
        "colab": {
          "base_uri": "https://localhost:8080/"
        },
        "id": "Mk33eI3sQdUu",
        "outputId": "84ed35d9-0053-45b1-c249-b4ac5a8d729a"
      },
      "execution_count": 8,
      "outputs": [
        {
          "output_type": "stream",
          "name": "stdout",
          "text": [
            "[1, 2, 3, 5, 6, 7, 8, 9, 10]\n"
          ]
        }
      ]
    },
    {
      "cell_type": "code",
      "source": [
        "#assgin variables in diffrant way\n",
        "num1,* num2,num3 = [1,2,3,4,5,6]  #first item in list will asgin to num1 and last will assgin to num3 others will assgin to num2\n",
        "print(num1,num2,num3)"
      ],
      "metadata": {
        "colab": {
          "base_uri": "https://localhost:8080/"
        },
        "id": "--QAGUicdxmW",
        "outputId": "b3a1af3b-3d11-466f-e84e-4c08f0541875"
      },
      "execution_count": 11,
      "outputs": [
        {
          "output_type": "stream",
          "name": "stdout",
          "text": [
            "1 [2, 3, 4, 5] 6\n"
          ]
        }
      ]
    },
    {
      "cell_type": "markdown",
      "source": [
        "# **Packing Element**\n",
        "Asterisks can be used in capturing multiple elements at once during function call."
      ],
      "metadata": {
        "id": "I4h1o1AlgFht"
      }
    },
    {
      "cell_type": "code",
      "source": [
        "def average(*nums):   #can get the multiple argument at one time\n",
        "    return sum(nums) / len(nums)\n",
        "print(average(1,2,3,4))"
      ],
      "metadata": {
        "colab": {
          "base_uri": "https://localhost:8080/"
        },
        "id": "goLAsdrPgVz-",
        "outputId": "9504d536-6f54-45fa-fb3b-573ad5dfce4b"
      },
      "execution_count": 12,
      "outputs": [
        {
          "output_type": "stream",
          "name": "stdout",
          "text": [
            "2.5\n"
          ]
        }
      ]
    },
    {
      "cell_type": "code",
      "source": [
        "#can use ** to caputer to capture various key value pair elements\n",
        "def object(name, **properties):\n",
        "    print(name, properties)\n",
        "\n",
        "object(\"Car\", color=\"Red\", cost=999999, company=\"Ferrari\")"
      ],
      "metadata": {
        "colab": {
          "base_uri": "https://localhost:8080/"
        },
        "id": "lddCQn_Mi-bX",
        "outputId": "07ee4645-322b-4d86-cbd6-23bbaa762520"
      },
      "execution_count": 13,
      "outputs": [
        {
          "output_type": "stream",
          "name": "stdout",
          "text": [
            "Car {'color': 'Red', 'cost': 999999, 'company': 'Ferrari'}\n"
          ]
        }
      ]
    }
  ]
}